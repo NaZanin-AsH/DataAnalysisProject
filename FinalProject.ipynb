{
 "cells": [
  {
   "cell_type": "code",
   "execution_count": 1,
   "id": "4541c2a1-7d1a-4836-860c-0d2186ff2287",
   "metadata": {},
   "outputs": [],
   "source": [
    "#**Data Preprocessing:** In this section, you will become more familiar with the project's data, and a series of preparation and preprocessing steps will be performed on the entire dataset.\n",
    "\n",
    "#**Exploration:** In this step, we answer a series of high-level questions and gain an intuitive understanding of the company's financial information.\n",
    "\n",
    "#**Market Analysis:** In the third step, we will analyze the sales and distribution locations, examining which countries, despite having many customers, experience low sales.\n",
    "\n",
    "#**Customer Valuation:** In this step, we introduce a practical metric called RFM and, based on this metric, divide the company's customers into 7 categories, each with its own marketing meaning and behavior.\n",
    "\n",
    "#**Customer Retention Analysis:** In the final step, we aim to determine the percentage of customers who make purchases from the company in the months following their first purchase."
   ]
  },
  {
   "cell_type": "code",
   "execution_count": 2,
   "id": "9f782f83-eb7e-472e-a6a5-5b1a5b49c3e0",
   "metadata": {},
   "outputs": [],
   "source": [
    "#In the first step of the final project, you will apply a series of preprocessing steps to the data to prepare a higher-quality dataset for the subsequent stages of the project. Additionally, you will answer some analytical questions based on these steps."
   ]
  },
  {
   "cell_type": "code",
   "execution_count": 100,
   "id": "952cede6-ecd4-47b2-a0e4-3917c9530eec",
   "metadata": {},
   "outputs": [],
   "source": [
    "import pandas as pd\n",
    "import numpy as np\n",
    "import matplotlib.pyplot as plt\n",
    "from datetime import date\n",
    "import seaborn as sns"
   ]
  },
  {
   "cell_type": "code",
   "execution_count": 5,
   "id": "2f487935-7bfd-410b-b37a-a61b299349b1",
   "metadata": {},
   "outputs": [],
   "source": [
    "df = pd.read_excel(\"./sales.xlsx\")"
   ]
  },
  {
   "cell_type": "code",
   "execution_count": 14,
   "id": "d8782a9a-e4e3-4cca-b69d-104695a6300e",
   "metadata": {},
   "outputs": [
    {
     "name": "stdout",
     "output_type": "stream",
     "text": [
      "<class 'pandas.core.frame.DataFrame'>\n",
      "RangeIndex: 525461 entries, 0 to 525460\n",
      "Data columns (total 8 columns):\n",
      " #   Column         Non-Null Count   Dtype         \n",
      "---  ------         --------------   -----         \n",
      " 0   InvoiceNumber  525461 non-null  object        \n",
      " 1   ProductCode    525461 non-null  object        \n",
      " 2   ProductName    522533 non-null  object        \n",
      " 3   Quantity       525461 non-null  int64         \n",
      " 4   InvoiceDate    525461 non-null  datetime64[ns]\n",
      " 5   UnitPrice      525461 non-null  float64       \n",
      " 6   CustomerId     417534 non-null  float64       \n",
      " 7   Country        525461 non-null  object        \n",
      "dtypes: datetime64[ns](1), float64(2), int64(1), object(4)\n",
      "memory usage: 32.1+ MB\n"
     ]
    }
   ],
   "source": [
    "#df.head(30)\n",
    "#df.describe()\n",
    "df.info()"
   ]
  },
  {
   "cell_type": "code",
   "execution_count": 9,
   "id": "3e855c3e-8a6a-485f-af50-75e776122b25",
   "metadata": {},
   "outputs": [],
   "source": [
    "#First, remove the rows where the `CustomerId` is missing. Perform this operation on a copy of the DataFrame named `df_no_missing_CustomerId`."
   ]
  },
  {
   "cell_type": "code",
   "execution_count": 10,
   "id": "53a800d1-413d-4d74-a9a4-752f08de35f4",
   "metadata": {},
   "outputs": [],
   "source": [
    "df_no_missing_CustomerId = df.copy()"
   ]
  },
  {
   "cell_type": "code",
   "execution_count": 11,
   "id": "ed43be04-8d2a-450f-9cd3-402d9643099f",
   "metadata": {},
   "outputs": [],
   "source": [
    "df_no_missing_CustomerId.dropna(subset='CustomerId', inplace=True)"
   ]
  },
  {
   "cell_type": "code",
   "execution_count": 12,
   "id": "c2507961-7cbd-427f-abca-2a9413f8c092",
   "metadata": {},
   "outputs": [
    {
     "data": {
      "text/html": [
       "<div>\n",
       "<style scoped>\n",
       "    .dataframe tbody tr th:only-of-type {\n",
       "        vertical-align: middle;\n",
       "    }\n",
       "\n",
       "    .dataframe tbody tr th {\n",
       "        vertical-align: top;\n",
       "    }\n",
       "\n",
       "    .dataframe thead th {\n",
       "        text-align: right;\n",
       "    }\n",
       "</style>\n",
       "<table border=\"1\" class=\"dataframe\">\n",
       "  <thead>\n",
       "    <tr style=\"text-align: right;\">\n",
       "      <th></th>\n",
       "      <th>InvoiceNumber</th>\n",
       "      <th>ProductCode</th>\n",
       "      <th>ProductName</th>\n",
       "      <th>Quantity</th>\n",
       "      <th>InvoiceDate</th>\n",
       "      <th>UnitPrice</th>\n",
       "      <th>CustomerId</th>\n",
       "      <th>Country</th>\n",
       "    </tr>\n",
       "  </thead>\n",
       "  <tbody>\n",
       "    <tr>\n",
       "      <th>0</th>\n",
       "      <td>489434</td>\n",
       "      <td>85048</td>\n",
       "      <td>15CM CHRISTMAS GLASS BALL 20 LIGHTS</td>\n",
       "      <td>12</td>\n",
       "      <td>2009-12-01 07:45:00</td>\n",
       "      <td>6.95</td>\n",
       "      <td>13085.0</td>\n",
       "      <td>United Kingdom</td>\n",
       "    </tr>\n",
       "    <tr>\n",
       "      <th>1</th>\n",
       "      <td>489434</td>\n",
       "      <td>79323P</td>\n",
       "      <td>PINK CHERRY LIGHTS</td>\n",
       "      <td>12</td>\n",
       "      <td>2009-12-01 07:45:00</td>\n",
       "      <td>6.75</td>\n",
       "      <td>13085.0</td>\n",
       "      <td>United Kingdom</td>\n",
       "    </tr>\n",
       "    <tr>\n",
       "      <th>2</th>\n",
       "      <td>489434</td>\n",
       "      <td>79323W</td>\n",
       "      <td>WHITE CHERRY LIGHTS</td>\n",
       "      <td>12</td>\n",
       "      <td>2009-12-01 07:45:00</td>\n",
       "      <td>6.75</td>\n",
       "      <td>13085.0</td>\n",
       "      <td>United Kingdom</td>\n",
       "    </tr>\n",
       "    <tr>\n",
       "      <th>3</th>\n",
       "      <td>489434</td>\n",
       "      <td>22041</td>\n",
       "      <td>RECORD FRAME 7\" SINGLE SIZE</td>\n",
       "      <td>48</td>\n",
       "      <td>2009-12-01 07:45:00</td>\n",
       "      <td>2.10</td>\n",
       "      <td>13085.0</td>\n",
       "      <td>United Kingdom</td>\n",
       "    </tr>\n",
       "    <tr>\n",
       "      <th>4</th>\n",
       "      <td>489434</td>\n",
       "      <td>21232</td>\n",
       "      <td>STRAWBERRY CERAMIC TRINKET BOX</td>\n",
       "      <td>24</td>\n",
       "      <td>2009-12-01 07:45:00</td>\n",
       "      <td>1.25</td>\n",
       "      <td>13085.0</td>\n",
       "      <td>United Kingdom</td>\n",
       "    </tr>\n",
       "  </tbody>\n",
       "</table>\n",
       "</div>"
      ],
      "text/plain": [
       "  InvoiceNumber ProductCode                          ProductName  Quantity  \\\n",
       "0        489434       85048  15CM CHRISTMAS GLASS BALL 20 LIGHTS        12   \n",
       "1        489434      79323P                   PINK CHERRY LIGHTS        12   \n",
       "2        489434      79323W                  WHITE CHERRY LIGHTS        12   \n",
       "3        489434       22041         RECORD FRAME 7\" SINGLE SIZE         48   \n",
       "4        489434       21232       STRAWBERRY CERAMIC TRINKET BOX        24   \n",
       "\n",
       "          InvoiceDate  UnitPrice  CustomerId         Country  \n",
       "0 2009-12-01 07:45:00       6.95     13085.0  United Kingdom  \n",
       "1 2009-12-01 07:45:00       6.75     13085.0  United Kingdom  \n",
       "2 2009-12-01 07:45:00       6.75     13085.0  United Kingdom  \n",
       "3 2009-12-01 07:45:00       2.10     13085.0  United Kingdom  \n",
       "4 2009-12-01 07:45:00       1.25     13085.0  United Kingdom  "
      ]
     },
     "execution_count": 12,
     "metadata": {},
     "output_type": "execute_result"
    }
   ],
   "source": [
    "df_no_missing_CustomerId.head()"
   ]
  },
  {
   "cell_type": "code",
   "execution_count": 16,
   "id": "f4379ae4-2010-412a-9597-2f50fb15fd9d",
   "metadata": {},
   "outputs": [],
   "source": [
    "#df_no_missing_CustomerId.info()"
   ]
  },
  {
   "cell_type": "code",
   "execution_count": 17,
   "id": "84426463-903c-40d3-b123-bdd969703cca",
   "metadata": {},
   "outputs": [],
   "source": [
    "#Next, from the rows where all values are identical, keep only one row. We Perform this operation on a copy of the previous DataFrame, naming it `df_no_duplicate`."
   ]
  },
  {
   "cell_type": "code",
   "execution_count": 22,
   "id": "ef529039-98aa-4083-b1e8-b07970e1eb04",
   "metadata": {},
   "outputs": [],
   "source": [
    "df_no_duplicate = df_no_missing_CustomerId.copy()"
   ]
  },
  {
   "cell_type": "code",
   "execution_count": 23,
   "id": "e5d4d120-34a8-44e4-809c-03b4bfad68ef",
   "metadata": {},
   "outputs": [
    {
     "name": "stdout",
     "output_type": "stream",
     "text": [
      "<class 'pandas.core.frame.DataFrame'>\n",
      "Index: 417534 entries, 0 to 525460\n",
      "Data columns (total 8 columns):\n",
      " #   Column         Non-Null Count   Dtype         \n",
      "---  ------         --------------   -----         \n",
      " 0   InvoiceNumber  417534 non-null  object        \n",
      " 1   ProductCode    417534 non-null  object        \n",
      " 2   ProductName    417534 non-null  object        \n",
      " 3   Quantity       417534 non-null  int64         \n",
      " 4   InvoiceDate    417534 non-null  datetime64[ns]\n",
      " 5   UnitPrice      417534 non-null  float64       \n",
      " 6   CustomerId     417534 non-null  float64       \n",
      " 7   Country        417534 non-null  object        \n",
      "dtypes: datetime64[ns](1), float64(2), int64(1), object(4)\n",
      "memory usage: 28.7+ MB\n"
     ]
    }
   ],
   "source": [
    "df_no_duplicate.info()"
   ]
  },
  {
   "cell_type": "code",
   "execution_count": 26,
   "id": "360cf3c1-e43a-4523-8e30-a554e0cbe5df",
   "metadata": {},
   "outputs": [
    {
     "name": "stdout",
     "output_type": "stream",
     "text": [
      "<class 'pandas.core.frame.DataFrame'>\n",
      "Index: 410763 entries, 0 to 525460\n",
      "Data columns (total 8 columns):\n",
      " #   Column         Non-Null Count   Dtype         \n",
      "---  ------         --------------   -----         \n",
      " 0   InvoiceNumber  410763 non-null  object        \n",
      " 1   ProductCode    410763 non-null  object        \n",
      " 2   ProductName    410763 non-null  object        \n",
      " 3   Quantity       410763 non-null  int64         \n",
      " 4   InvoiceDate    410763 non-null  datetime64[ns]\n",
      " 5   UnitPrice      410763 non-null  float64       \n",
      " 6   CustomerId     410763 non-null  float64       \n",
      " 7   Country        410763 non-null  object        \n",
      "dtypes: datetime64[ns](1), float64(2), int64(1), object(4)\n",
      "memory usage: 28.2+ MB\n"
     ]
    }
   ],
   "source": [
    "#df_no_duplicate\n",
    "df_no_duplicate.drop_duplicates(inplace=True)\n",
    "df_no_duplicate.info()"
   ]
  },
  {
   "cell_type": "code",
   "execution_count": 27,
   "id": "51080ccb-ad5e-42d9-ab9a-3124863c13ac",
   "metadata": {},
   "outputs": [],
   "source": [
    "#Also,we remove the rows where the UnitPrice is zero or a negative number. In other words, keep only the rows where the price is positive. Perform this operation on a copy of the previous DataFrame, naming it df_no_missing_price."
   ]
  },
  {
   "cell_type": "code",
   "execution_count": 28,
   "id": "17e17ba2-1dc8-486c-83b3-db8d2d29833b",
   "metadata": {},
   "outputs": [],
   "source": [
    "df_no_missing_price = df_no_duplicate.copy()"
   ]
  },
  {
   "cell_type": "code",
   "execution_count": 29,
   "id": "8cc53cc7-bc93-4dbc-853b-6eeb7678f4df",
   "metadata": {},
   "outputs": [],
   "source": [
    "df_no_missing_price = df_no_missing_price[df_no_missing_price.UnitPrice > 0]"
   ]
  },
  {
   "cell_type": "code",
   "execution_count": 31,
   "id": "48f65b38-91be-4d74-a6fd-66b48048b03b",
   "metadata": {},
   "outputs": [],
   "source": [
    "#Now, based on the data obtained in the previous step (the DataFrame `df_no_missing_price`), calculate what percentage of the total orders have been canceled, and store the rounded value in a variable called `percentage_cancelled_orders`."
   ]
  },
  {
   "cell_type": "code",
   "execution_count": 33,
   "id": "15a54ab4-1a5b-4dfd-9ff5-f9238da5139b",
   "metadata": {},
   "outputs": [
    {
     "name": "stdout",
     "output_type": "stream",
     "text": [
      "19\n"
     ]
    }
   ],
   "source": [
    "percentage_cancelled_orders = round(100*df_no_missing_price[df_no_missing_price.InvoiceNumber.str.startswith(\"C\", na=False)].InvoiceNumber.nunique()/df_no_missing_price.InvoiceNumber.nunique())\n",
    "print(percentage_cancelled_orders)"
   ]
  },
  {
   "cell_type": "code",
   "execution_count": 34,
   "id": "3274c736-978c-487c-aef9-c9bcaa108d28",
   "metadata": {},
   "outputs": [],
   "source": [
    "#In this part, using the DataFrame `df_no_missing_price`, identify the five customers with the highest number of canceled orders.We store their IDs in a list, in descending order, in the variable `top_cancelling_customers`."
   ]
  },
  {
   "cell_type": "code",
   "execution_count": 38,
   "id": "6bf9a014-fd67-4849-b8af-08142728edf4",
   "metadata": {},
   "outputs": [
    {
     "data": {
      "text/html": [
       "<div>\n",
       "<style scoped>\n",
       "    .dataframe tbody tr th:only-of-type {\n",
       "        vertical-align: middle;\n",
       "    }\n",
       "\n",
       "    .dataframe tbody tr th {\n",
       "        vertical-align: top;\n",
       "    }\n",
       "\n",
       "    .dataframe thead th {\n",
       "        text-align: right;\n",
       "    }\n",
       "</style>\n",
       "<table border=\"1\" class=\"dataframe\">\n",
       "  <thead>\n",
       "    <tr style=\"text-align: right;\">\n",
       "      <th></th>\n",
       "      <th>CustomerId</th>\n",
       "      <th>count</th>\n",
       "    </tr>\n",
       "  </thead>\n",
       "  <tbody>\n",
       "    <tr>\n",
       "      <th>845</th>\n",
       "      <td>14911</td>\n",
       "      <td>65</td>\n",
       "    </tr>\n",
       "    <tr>\n",
       "      <th>720</th>\n",
       "      <td>14527</td>\n",
       "      <td>39</td>\n",
       "    </tr>\n",
       "    <tr>\n",
       "      <th>963</th>\n",
       "      <td>15311</td>\n",
       "      <td>37</td>\n",
       "    </tr>\n",
       "    <tr>\n",
       "      <th>599</th>\n",
       "      <td>14156</td>\n",
       "      <td>36</td>\n",
       "    </tr>\n",
       "    <tr>\n",
       "      <th>1693</th>\n",
       "      <td>17841</td>\n",
       "      <td>35</td>\n",
       "    </tr>\n",
       "  </tbody>\n",
       "</table>\n",
       "</div>"
      ],
      "text/plain": [
       "     CustomerId  count\n",
       "845       14911     65\n",
       "720       14527     39\n",
       "963       15311     37\n",
       "599       14156     36\n",
       "1693      17841     35"
      ]
     },
     "execution_count": 38,
     "metadata": {},
     "output_type": "execute_result"
    }
   ],
   "source": [
    "\n",
    "df_tmp = df_no_missing_price.copy()\n",
    "df_tmp.CustomerId = df_tmp.CustomerId.apply(lambda id: str(int(id)))\n",
    "\n",
    "top_cancelling_customers = df_tmp[df_tmp.InvoiceNumber.str.startswith(\"C\", na=False)].groupby(\"CustomerId\")[\"InvoiceNumber\"].nunique().reset_index(name='count').sort_values(['count'], ascending=False).head(5)\n",
    "top_cancelling_customers"
   ]
  },
  {
   "cell_type": "code",
   "execution_count": 39,
   "id": "79a20e31-6ac1-497c-accf-e33e9d94767b",
   "metadata": {},
   "outputs": [
    {
     "name": "stdout",
     "output_type": "stream",
     "text": [
      "['14911', '14527', '15311', '14156', '17841']\n"
     ]
    }
   ],
   "source": [
    "top_cancelling_customers = list(top_cancelling_customers.CustomerId)\n",
    "print(top_cancelling_customers)"
   ]
  },
  {
   "cell_type": "code",
   "execution_count": 40,
   "id": "3faf4385-861a-4f18-a30b-2854c032037e",
   "metadata": {},
   "outputs": [],
   "source": [
    "#Now, as the final step of preprocessing,we remove the rows corresponding to the canceled orders from the DataFrame. Use a copy of the DataFrame `df_no_missing_price` for this task, naming it `df_no_canceled_orders`."
   ]
  },
  {
   "cell_type": "code",
   "execution_count": 44,
   "id": "bc0e0434-8b69-4d8a-8d1e-a6759142ad8f",
   "metadata": {},
   "outputs": [],
   "source": [
    "df_no_canceled_invoice = df_no_missing_price.copy()"
   ]
  },
  {
   "cell_type": "code",
   "execution_count": 45,
   "id": "dd2535e1-e506-4cca-bca4-f871591563f7",
   "metadata": {},
   "outputs": [],
   "source": [
    "df_no_canceled_invoice = df_no_canceled_invoice[~df_no_canceled_invoice.InvoiceNumber.str.startswith(\"C\", na=False)]"
   ]
  },
  {
   "cell_type": "code",
   "execution_count": 46,
   "id": "3c6ac14a-4e5f-465f-b54c-a4276ecb57fd",
   "metadata": {},
   "outputs": [
    {
     "data": {
      "text/html": [
       "<div>\n",
       "<style scoped>\n",
       "    .dataframe tbody tr th:only-of-type {\n",
       "        vertical-align: middle;\n",
       "    }\n",
       "\n",
       "    .dataframe tbody tr th {\n",
       "        vertical-align: top;\n",
       "    }\n",
       "\n",
       "    .dataframe thead th {\n",
       "        text-align: right;\n",
       "    }\n",
       "</style>\n",
       "<table border=\"1\" class=\"dataframe\">\n",
       "  <thead>\n",
       "    <tr style=\"text-align: right;\">\n",
       "      <th></th>\n",
       "      <th>InvoiceNumber</th>\n",
       "      <th>ProductCode</th>\n",
       "      <th>ProductName</th>\n",
       "      <th>Quantity</th>\n",
       "      <th>InvoiceDate</th>\n",
       "      <th>UnitPrice</th>\n",
       "      <th>CustomerId</th>\n",
       "      <th>Country</th>\n",
       "    </tr>\n",
       "  </thead>\n",
       "  <tbody>\n",
       "    <tr>\n",
       "      <th>0</th>\n",
       "      <td>489434</td>\n",
       "      <td>85048</td>\n",
       "      <td>15CM CHRISTMAS GLASS BALL 20 LIGHTS</td>\n",
       "      <td>12</td>\n",
       "      <td>2009-12-01 07:45:00</td>\n",
       "      <td>6.95</td>\n",
       "      <td>13085.0</td>\n",
       "      <td>United Kingdom</td>\n",
       "    </tr>\n",
       "    <tr>\n",
       "      <th>1</th>\n",
       "      <td>489434</td>\n",
       "      <td>79323P</td>\n",
       "      <td>PINK CHERRY LIGHTS</td>\n",
       "      <td>12</td>\n",
       "      <td>2009-12-01 07:45:00</td>\n",
       "      <td>6.75</td>\n",
       "      <td>13085.0</td>\n",
       "      <td>United Kingdom</td>\n",
       "    </tr>\n",
       "    <tr>\n",
       "      <th>2</th>\n",
       "      <td>489434</td>\n",
       "      <td>79323W</td>\n",
       "      <td>WHITE CHERRY LIGHTS</td>\n",
       "      <td>12</td>\n",
       "      <td>2009-12-01 07:45:00</td>\n",
       "      <td>6.75</td>\n",
       "      <td>13085.0</td>\n",
       "      <td>United Kingdom</td>\n",
       "    </tr>\n",
       "    <tr>\n",
       "      <th>3</th>\n",
       "      <td>489434</td>\n",
       "      <td>22041</td>\n",
       "      <td>RECORD FRAME 7\" SINGLE SIZE</td>\n",
       "      <td>48</td>\n",
       "      <td>2009-12-01 07:45:00</td>\n",
       "      <td>2.10</td>\n",
       "      <td>13085.0</td>\n",
       "      <td>United Kingdom</td>\n",
       "    </tr>\n",
       "    <tr>\n",
       "      <th>4</th>\n",
       "      <td>489434</td>\n",
       "      <td>21232</td>\n",
       "      <td>STRAWBERRY CERAMIC TRINKET BOX</td>\n",
       "      <td>24</td>\n",
       "      <td>2009-12-01 07:45:00</td>\n",
       "      <td>1.25</td>\n",
       "      <td>13085.0</td>\n",
       "      <td>United Kingdom</td>\n",
       "    </tr>\n",
       "  </tbody>\n",
       "</table>\n",
       "</div>"
      ],
      "text/plain": [
       "  InvoiceNumber ProductCode                          ProductName  Quantity  \\\n",
       "0        489434       85048  15CM CHRISTMAS GLASS BALL 20 LIGHTS        12   \n",
       "1        489434      79323P                   PINK CHERRY LIGHTS        12   \n",
       "2        489434      79323W                  WHITE CHERRY LIGHTS        12   \n",
       "3        489434       22041         RECORD FRAME 7\" SINGLE SIZE         48   \n",
       "4        489434       21232       STRAWBERRY CERAMIC TRINKET BOX        24   \n",
       "\n",
       "          InvoiceDate  UnitPrice  CustomerId         Country  \n",
       "0 2009-12-01 07:45:00       6.95     13085.0  United Kingdom  \n",
       "1 2009-12-01 07:45:00       6.75     13085.0  United Kingdom  \n",
       "2 2009-12-01 07:45:00       6.75     13085.0  United Kingdom  \n",
       "3 2009-12-01 07:45:00       2.10     13085.0  United Kingdom  \n",
       "4 2009-12-01 07:45:00       1.25     13085.0  United Kingdom  "
      ]
     },
     "execution_count": 46,
     "metadata": {},
     "output_type": "execute_result"
    }
   ],
   "source": [
    "df_no_canceled_invoice.head()"
   ]
  },
  {
   "cell_type": "code",
   "execution_count": 47,
   "id": "a818c4f5-e4ef-4659-ba64-9957819a8885",
   "metadata": {},
   "outputs": [],
   "source": [
    "#Now,we save the preprocessed DataFrame to a file named `preprocessed_sales.csv` so that this dataset can be used in the subsequent steps of the project."
   ]
  },
  {
   "cell_type": "code",
   "execution_count": 49,
   "id": "bd99add2-8da0-4adb-b775-1b281f90d013",
   "metadata": {},
   "outputs": [],
   "source": [
    "df_no_canceled_invoice.to_csv(\"preprocessed_sales.csv\", index=False)"
   ]
  },
  {
   "cell_type": "code",
   "execution_count": 106,
   "id": "443410c3-1910-42fd-9d0c-dbac197c5e57",
   "metadata": {},
   "outputs": [],
   "source": [
    "#In this step of the project, you'll conduct a deeper analysis of the orders and, by answering\n",
    "#a few questions and creating some charts, you'll gain a better understanding of the company's financial information."
   ]
  },
  {
   "cell_type": "code",
   "execution_count": 50,
   "id": "5799bc37-9df8-44d6-8d84-917c1d8e56ce",
   "metadata": {},
   "outputs": [
    {
     "data": {
      "text/html": [
       "<div>\n",
       "<style scoped>\n",
       "    .dataframe tbody tr th:only-of-type {\n",
       "        vertical-align: middle;\n",
       "    }\n",
       "\n",
       "    .dataframe tbody tr th {\n",
       "        vertical-align: top;\n",
       "    }\n",
       "\n",
       "    .dataframe thead th {\n",
       "        text-align: right;\n",
       "    }\n",
       "</style>\n",
       "<table border=\"1\" class=\"dataframe\">\n",
       "  <thead>\n",
       "    <tr style=\"text-align: right;\">\n",
       "      <th></th>\n",
       "      <th>InvoiceNumber</th>\n",
       "      <th>ProductCode</th>\n",
       "      <th>ProductName</th>\n",
       "      <th>Quantity</th>\n",
       "      <th>InvoiceDate</th>\n",
       "      <th>UnitPrice</th>\n",
       "      <th>CustomerId</th>\n",
       "      <th>Country</th>\n",
       "    </tr>\n",
       "  </thead>\n",
       "  <tbody>\n",
       "    <tr>\n",
       "      <th>0</th>\n",
       "      <td>489434</td>\n",
       "      <td>85048</td>\n",
       "      <td>15CM CHRISTMAS GLASS BALL 20 LIGHTS</td>\n",
       "      <td>12</td>\n",
       "      <td>2009-12-01 07:45:00</td>\n",
       "      <td>6.95</td>\n",
       "      <td>13085.0</td>\n",
       "      <td>United Kingdom</td>\n",
       "    </tr>\n",
       "    <tr>\n",
       "      <th>1</th>\n",
       "      <td>489434</td>\n",
       "      <td>79323P</td>\n",
       "      <td>PINK CHERRY LIGHTS</td>\n",
       "      <td>12</td>\n",
       "      <td>2009-12-01 07:45:00</td>\n",
       "      <td>6.75</td>\n",
       "      <td>13085.0</td>\n",
       "      <td>United Kingdom</td>\n",
       "    </tr>\n",
       "    <tr>\n",
       "      <th>2</th>\n",
       "      <td>489434</td>\n",
       "      <td>79323W</td>\n",
       "      <td>WHITE CHERRY LIGHTS</td>\n",
       "      <td>12</td>\n",
       "      <td>2009-12-01 07:45:00</td>\n",
       "      <td>6.75</td>\n",
       "      <td>13085.0</td>\n",
       "      <td>United Kingdom</td>\n",
       "    </tr>\n",
       "    <tr>\n",
       "      <th>3</th>\n",
       "      <td>489434</td>\n",
       "      <td>22041</td>\n",
       "      <td>RECORD FRAME 7\" SINGLE SIZE</td>\n",
       "      <td>48</td>\n",
       "      <td>2009-12-01 07:45:00</td>\n",
       "      <td>2.10</td>\n",
       "      <td>13085.0</td>\n",
       "      <td>United Kingdom</td>\n",
       "    </tr>\n",
       "    <tr>\n",
       "      <th>4</th>\n",
       "      <td>489434</td>\n",
       "      <td>21232</td>\n",
       "      <td>STRAWBERRY CERAMIC TRINKET BOX</td>\n",
       "      <td>24</td>\n",
       "      <td>2009-12-01 07:45:00</td>\n",
       "      <td>1.25</td>\n",
       "      <td>13085.0</td>\n",
       "      <td>United Kingdom</td>\n",
       "    </tr>\n",
       "  </tbody>\n",
       "</table>\n",
       "</div>"
      ],
      "text/plain": [
       "   InvoiceNumber ProductCode                          ProductName  Quantity  \\\n",
       "0         489434       85048  15CM CHRISTMAS GLASS BALL 20 LIGHTS        12   \n",
       "1         489434      79323P                   PINK CHERRY LIGHTS        12   \n",
       "2         489434      79323W                  WHITE CHERRY LIGHTS        12   \n",
       "3         489434       22041         RECORD FRAME 7\" SINGLE SIZE         48   \n",
       "4         489434       21232       STRAWBERRY CERAMIC TRINKET BOX        24   \n",
       "\n",
       "           InvoiceDate  UnitPrice  CustomerId         Country  \n",
       "0  2009-12-01 07:45:00       6.95     13085.0  United Kingdom  \n",
       "1  2009-12-01 07:45:00       6.75     13085.0  United Kingdom  \n",
       "2  2009-12-01 07:45:00       6.75     13085.0  United Kingdom  \n",
       "3  2009-12-01 07:45:00       2.10     13085.0  United Kingdom  \n",
       "4  2009-12-01 07:45:00       1.25     13085.0  United Kingdom  "
      ]
     },
     "execution_count": 50,
     "metadata": {},
     "output_type": "execute_result"
    }
   ],
   "source": [
    "df =pd.read_csv('./preprocessed_sales.csv')\n",
    "df.head()"
   ]
  },
  {
   "cell_type": "code",
   "execution_count": 51,
   "id": "68482a55-0c27-4bbd-8dba-a220581cdd0a",
   "metadata": {},
   "outputs": [],
   "source": [
    "#How many invoices remain?"
   ]
  },
  {
   "cell_type": "code",
   "execution_count": 52,
   "id": "68d7d395-b725-4a69-abc6-7e236c94f0ea",
   "metadata": {},
   "outputs": [],
   "source": [
    "number_of_orders = df['InvoiceNumber'].nunique()"
   ]
  },
  {
   "cell_type": "code",
   "execution_count": 53,
   "id": "bf848c7b-6545-4303-a486-e37da7368d8e",
   "metadata": {},
   "outputs": [
    {
     "data": {
      "text/plain": [
       "19213"
      ]
     },
     "execution_count": 53,
     "metadata": {},
     "output_type": "execute_result"
    }
   ],
   "source": [
    "number_of_orders"
   ]
  },
  {
   "cell_type": "code",
   "execution_count": 54,
   "id": "7af21a18-faf7-44fd-924e-86956ad8ca85",
   "metadata": {},
   "outputs": [],
   "source": [
    "#In what time period was this data collected? Store your answer as a tuple in the variable window_period, \n",
    "#which should include the earliest and latest times, in that order. For example, \n",
    "#if the earliest time is 2008-04-05 18:20:00 and the latest time is 2010-11-19 20:40:00,\n",
    "#then the variable should be set as follows:"
   ]
  },
  {
   "cell_type": "code",
   "execution_count": 55,
   "id": "03f214d4-8abf-4238-9583-cd9a091acf0e",
   "metadata": {},
   "outputs": [
    {
     "data": {
      "text/plain": [
       "('2009-12-01 07:45:00', '2010-12-09 20:01:00')"
      ]
     },
     "execution_count": 55,
     "metadata": {},
     "output_type": "execute_result"
    }
   ],
   "source": [
    "window_period = (df['InvoiceDate'].min(), df['InvoiceDate'].max())\n",
    "window_period"
   ]
  },
  {
   "cell_type": "code",
   "execution_count": 56,
   "id": "9bd4f2d1-996a-492c-be19-09aaa801a50d",
   "metadata": {},
   "outputs": [],
   "source": [
    "#Using a bar chart, show the number of unique invoices issued on each day of the week (Monday, Tuesday, etc.). \n",
    "#To do this, first identify the day of the week on which each transaction occurred, then calculate the number of unique invoices issued on each day of the week."
   ]
  },
  {
   "cell_type": "code",
   "execution_count": 59,
   "id": "76dd4943-4b7f-4f5b-8c4a-3905489f7188",
   "metadata": {},
   "outputs": [
    {
     "data": {
      "text/plain": [
       "Text(0.5, 1.0, 'Number of orders for different Days')"
      ]
     },
     "execution_count": 59,
     "metadata": {},
     "output_type": "execute_result"
    },
    {
     "data": {
      "image/png": "[encoded data removed]",
      "text/plain": [
       "<Figure size 1500x600 with 1 Axes>"
      ]
     },
     "metadata": {},
     "output_type": "display_data"
    }
   ],
   "source": [
    "fig1, ax1 = plt.subplots(figsize=(15, 6))\n",
    "\n",
    "df['day_of_week'] = pd.to_datetime(df[\"InvoiceDate\"]).dt.day_of_week\n",
    "\n",
    "df.groupby('day_of_week')['InvoiceNumber'].nunique().sort_index().plot(ax=ax1, kind=\"bar\", color=\"lime\")\n",
    "\n",
    "days = ('Mon', 'Tue', 'Wed', 'Thur', 'Fri', 'Sat', 'Sun')\n",
    "ax1.set_xticklabels(days, rotation=0, size=15)\n",
    "\n",
    "ax1.set_xlabel('Day', color='lightseagreen', size=15)\n",
    "ax1.set_ylabel('Number of Orders', color='lightseagreen', size=15)\n",
    "ax1.set_title('Number of orders for different Days', color='green', size=15)\n"
   ]
  },
  {
   "cell_type": "code",
   "execution_count": 60,
   "id": "727b1de1-9a24-46d5-b15f-0fe6dd34a619",
   "metadata": {},
   "outputs": [],
   "source": [
    "#Now, create a bar chart showing the total sales for each month of each year.\n",
    "#Note that the total sales for each row in the DataFrame is calculated by multiplying the unit price (`UnitPrice` column) by the quantity of the product (`Quantity` column)."
   ]
  },
  {
   "cell_type": "code",
   "execution_count": 61,
   "id": "9ca6c900-7cca-4165-b808-52ca599fa046",
   "metadata": {},
   "outputs": [
    {
     "data": {
      "text/plain": [
       "Text(0.5, 1.0, 'Number of orders for different Months')"
      ]
     },
     "execution_count": 61,
     "metadata": {},
     "output_type": "execute_result"
    },
    {
     "data": {
      "image/png": "[encoded data removed]",
      "text/plain": [
       "<Figure size 1500x600 with 1 Axes>"
      ]
     },
     "metadata": {},
     "output_type": "display_data"
    }
   ],
   "source": [
    "fig2, ax2 = plt.subplots(figsize=(15, 6))\n",
    "\n",
    "# create a new column for the total price of each row\n",
    "df['TotalPrice'] = df['Quantity'] * df['UnitPrice']\n",
    "\n",
    "# extract the month and year from the InvoiceDate column\n",
    "df['month_year'] = pd.to_datetime(df[\"InvoiceDate\"].sort_values()).dt.strftime(\"%b_%Y\")\n",
    "\n",
    "# group by month and year and sum the total price\n",
    "df.groupby('month_year', sort=False)['TotalPrice'].sum().plot(ax=ax2, kind=\"bar\", color=\"darkkhaki\")\n",
    "\n",
    "# set the xticklabels to the month and year and change the jul_2010 label\n",
    "labels = ax2.get_xticklabels()\n",
    "labels[7] = \"July_2010\"\n",
    "ax2.set_xticklabels(labels, rotation=45, size=13)\n",
    "\n",
    "# set the labels and title\n",
    "ax2.set_xlabel(\"Month\", size=15, color=\"orange\")\n",
    "ax2.set_ylabel(\"Sales amount\", size=15, color=\"orange\")\n",
    "ax2.set_title(\"Number of orders for different Months\", color=\"cadetblue\", size=15)"
   ]
  },
  {
   "cell_type": "code",
   "execution_count": 62,
   "id": "b5a65206-33f9-4bb9-961b-547b7bc66705",
   "metadata": {},
   "outputs": [],
   "source": [
    "#Step 3"
   ]
  },
  {
   "cell_type": "code",
   "execution_count": 64,
   "id": "7be27459-c93f-4bea-ace0-2e77e2eb78a2",
   "metadata": {},
   "outputs": [],
   "source": [
    "#In this step of the project, you will group the countries based on sales volume and the number of customers. \n",
    "#You will then analyze the sales and distribution by plotting a relevant chart to gain insights into the sales and distribution locations."
   ]
  },
  {
   "cell_type": "code",
   "execution_count": 65,
   "id": "762ffd65-3814-4030-afcb-6fa917bab228",
   "metadata": {},
   "outputs": [
    {
     "data": {
      "text/html": [
       "<div>\n",
       "<style scoped>\n",
       "    .dataframe tbody tr th:only-of-type {\n",
       "        vertical-align: middle;\n",
       "    }\n",
       "\n",
       "    .dataframe tbody tr th {\n",
       "        vertical-align: top;\n",
       "    }\n",
       "\n",
       "    .dataframe thead th {\n",
       "        text-align: right;\n",
       "    }\n",
       "</style>\n",
       "<table border=\"1\" class=\"dataframe\">\n",
       "  <thead>\n",
       "    <tr style=\"text-align: right;\">\n",
       "      <th></th>\n",
       "      <th>InvoiceNumber</th>\n",
       "      <th>ProductCode</th>\n",
       "      <th>ProductName</th>\n",
       "      <th>Quantity</th>\n",
       "      <th>InvoiceDate</th>\n",
       "      <th>UnitPrice</th>\n",
       "      <th>CustomerId</th>\n",
       "      <th>Country</th>\n",
       "    </tr>\n",
       "  </thead>\n",
       "  <tbody>\n",
       "    <tr>\n",
       "      <th>0</th>\n",
       "      <td>489434</td>\n",
       "      <td>85048</td>\n",
       "      <td>15CM CHRISTMAS GLASS BALL 20 LIGHTS</td>\n",
       "      <td>12</td>\n",
       "      <td>2009-12-01 07:45:00</td>\n",
       "      <td>6.95</td>\n",
       "      <td>13085.0</td>\n",
       "      <td>United Kingdom</td>\n",
       "    </tr>\n",
       "    <tr>\n",
       "      <th>1</th>\n",
       "      <td>489434</td>\n",
       "      <td>79323P</td>\n",
       "      <td>PINK CHERRY LIGHTS</td>\n",
       "      <td>12</td>\n",
       "      <td>2009-12-01 07:45:00</td>\n",
       "      <td>6.75</td>\n",
       "      <td>13085.0</td>\n",
       "      <td>United Kingdom</td>\n",
       "    </tr>\n",
       "    <tr>\n",
       "      <th>2</th>\n",
       "      <td>489434</td>\n",
       "      <td>79323W</td>\n",
       "      <td>WHITE CHERRY LIGHTS</td>\n",
       "      <td>12</td>\n",
       "      <td>2009-12-01 07:45:00</td>\n",
       "      <td>6.75</td>\n",
       "      <td>13085.0</td>\n",
       "      <td>United Kingdom</td>\n",
       "    </tr>\n",
       "    <tr>\n",
       "      <th>3</th>\n",
       "      <td>489434</td>\n",
       "      <td>22041</td>\n",
       "      <td>RECORD FRAME 7\" SINGLE SIZE</td>\n",
       "      <td>48</td>\n",
       "      <td>2009-12-01 07:45:00</td>\n",
       "      <td>2.10</td>\n",
       "      <td>13085.0</td>\n",
       "      <td>United Kingdom</td>\n",
       "    </tr>\n",
       "    <tr>\n",
       "      <th>4</th>\n",
       "      <td>489434</td>\n",
       "      <td>21232</td>\n",
       "      <td>STRAWBERRY CERAMIC TRINKET BOX</td>\n",
       "      <td>24</td>\n",
       "      <td>2009-12-01 07:45:00</td>\n",
       "      <td>1.25</td>\n",
       "      <td>13085.0</td>\n",
       "      <td>United Kingdom</td>\n",
       "    </tr>\n",
       "  </tbody>\n",
       "</table>\n",
       "</div>"
      ],
      "text/plain": [
       "   InvoiceNumber ProductCode                          ProductName  Quantity  \\\n",
       "0         489434       85048  15CM CHRISTMAS GLASS BALL 20 LIGHTS        12   \n",
       "1         489434      79323P                   PINK CHERRY LIGHTS        12   \n",
       "2         489434      79323W                  WHITE CHERRY LIGHTS        12   \n",
       "3         489434       22041         RECORD FRAME 7\" SINGLE SIZE         48   \n",
       "4         489434       21232       STRAWBERRY CERAMIC TRINKET BOX        24   \n",
       "\n",
       "           InvoiceDate  UnitPrice  CustomerId         Country  \n",
       "0  2009-12-01 07:45:00       6.95     13085.0  United Kingdom  \n",
       "1  2009-12-01 07:45:00       6.75     13085.0  United Kingdom  \n",
       "2  2009-12-01 07:45:00       6.75     13085.0  United Kingdom  \n",
       "3  2009-12-01 07:45:00       2.10     13085.0  United Kingdom  \n",
       "4  2009-12-01 07:45:00       1.25     13085.0  United Kingdom  "
      ]
     },
     "execution_count": 65,
     "metadata": {},
     "output_type": "execute_result"
    }
   ],
   "source": [
    "df = pd.read_csv('./preprocessed_sales.csv')\n",
    "df.head()"
   ]
  },
  {
   "cell_type": "code",
   "execution_count": 66,
   "id": "f0bc53ee-e7a9-4cdf-9661-465afdc5f0aa",
   "metadata": {},
   "outputs": [],
   "source": [
    "df_without_uk = df.drop(df[df['Country'] == 'United Kingdom'].index)\n",
    "# df_without_uk\n",
    "# sales_by_country = df_without_uk.groupby('Country')[['Quantity', 'UnitPrice']].sum()\n",
    "# sales_by_country\n",
    "\n",
    "df_without_uk['TotalSales'] = df_without_uk['Quantity'] * df_without_uk['UnitPrice']\n",
    "sales_by_country = df_without_uk.groupby('Country')['TotalSales'].sum()\n",
    "# sales_by_country\n",
    "customer_count_by_country = df_without_uk.groupby('Country')['CustomerId'].nunique()\n",
    "# customer_count_by_country\n",
    "# sales_by_country['TotalSales'] = sales_by_country['Quantity'] * sales_by_country['UnitPrice']\n",
    "# sales_by_country['TotalSales']\n",
    "country_stats = pd.concat([customer_count_by_country, sales_by_country], axis=1)\n",
    "country_stats = country_stats.reset_index()\n",
    "country_stats.columns = ['Country', 'CustomerCount', 'TotalSales']\n",
    "\n",
    "\n",
    "customer_count_q3 = country_stats['CustomerCount'].quantile(0.75)\n",
    "sales_q3 = country_stats['TotalSales'].quantile(0.75)"
   ]
  },
  {
   "cell_type": "code",
   "execution_count": 67,
   "id": "2791bc21-757b-4cfa-9d47-893c7b0d2098",
   "metadata": {},
   "outputs": [
    {
     "data": {
      "text/html": [
       "<div>\n",
       "<style scoped>\n",
       "    .dataframe tbody tr th:only-of-type {\n",
       "        vertical-align: middle;\n",
       "    }\n",
       "\n",
       "    .dataframe tbody tr th {\n",
       "        vertical-align: top;\n",
       "    }\n",
       "\n",
       "    .dataframe thead th {\n",
       "        text-align: right;\n",
       "    }\n",
       "</style>\n",
       "<table border=\"1\" class=\"dataframe\">\n",
       "  <thead>\n",
       "    <tr style=\"text-align: right;\">\n",
       "      <th></th>\n",
       "      <th>Country</th>\n",
       "      <th>CustomerCount</th>\n",
       "      <th>TotalSales</th>\n",
       "    </tr>\n",
       "  </thead>\n",
       "  <tbody>\n",
       "    <tr>\n",
       "      <th>0</th>\n",
       "      <td>Australia</td>\n",
       "      <td>15</td>\n",
       "      <td>31446.800</td>\n",
       "    </tr>\n",
       "    <tr>\n",
       "      <th>1</th>\n",
       "      <td>Austria</td>\n",
       "      <td>10</td>\n",
       "      <td>13414.330</td>\n",
       "    </tr>\n",
       "    <tr>\n",
       "      <th>2</th>\n",
       "      <td>Bahrain</td>\n",
       "      <td>2</td>\n",
       "      <td>805.970</td>\n",
       "    </tr>\n",
       "    <tr>\n",
       "      <th>3</th>\n",
       "      <td>Belgium</td>\n",
       "      <td>17</td>\n",
       "      <td>24537.580</td>\n",
       "    </tr>\n",
       "    <tr>\n",
       "      <th>4</th>\n",
       "      <td>Brazil</td>\n",
       "      <td>1</td>\n",
       "      <td>268.270</td>\n",
       "    </tr>\n",
       "    <tr>\n",
       "      <th>5</th>\n",
       "      <td>Canada</td>\n",
       "      <td>1</td>\n",
       "      <td>1216.660</td>\n",
       "    </tr>\n",
       "    <tr>\n",
       "      <th>6</th>\n",
       "      <td>Channel Islands</td>\n",
       "      <td>11</td>\n",
       "      <td>24546.320</td>\n",
       "    </tr>\n",
       "    <tr>\n",
       "      <th>7</th>\n",
       "      <td>Cyprus</td>\n",
       "      <td>7</td>\n",
       "      <td>11347.100</td>\n",
       "    </tr>\n",
       "    <tr>\n",
       "      <th>8</th>\n",
       "      <td>Denmark</td>\n",
       "      <td>9</td>\n",
       "      <td>50906.850</td>\n",
       "    </tr>\n",
       "    <tr>\n",
       "      <th>9</th>\n",
       "      <td>EIRE</td>\n",
       "      <td>5</td>\n",
       "      <td>356041.860</td>\n",
       "    </tr>\n",
       "    <tr>\n",
       "      <th>10</th>\n",
       "      <td>Finland</td>\n",
       "      <td>7</td>\n",
       "      <td>7379.460</td>\n",
       "    </tr>\n",
       "    <tr>\n",
       "      <th>11</th>\n",
       "      <td>France</td>\n",
       "      <td>47</td>\n",
       "      <td>146107.070</td>\n",
       "    </tr>\n",
       "    <tr>\n",
       "      <th>12</th>\n",
       "      <td>Germany</td>\n",
       "      <td>67</td>\n",
       "      <td>202025.391</td>\n",
       "    </tr>\n",
       "    <tr>\n",
       "      <th>13</th>\n",
       "      <td>Greece</td>\n",
       "      <td>4</td>\n",
       "      <td>14335.670</td>\n",
       "    </tr>\n",
       "    <tr>\n",
       "      <th>14</th>\n",
       "      <td>Iceland</td>\n",
       "      <td>1</td>\n",
       "      <td>1323.320</td>\n",
       "    </tr>\n",
       "    <tr>\n",
       "      <th>15</th>\n",
       "      <td>Israel</td>\n",
       "      <td>2</td>\n",
       "      <td>3199.400</td>\n",
       "    </tr>\n",
       "    <tr>\n",
       "      <th>16</th>\n",
       "      <td>Italy</td>\n",
       "      <td>11</td>\n",
       "      <td>15052.730</td>\n",
       "    </tr>\n",
       "    <tr>\n",
       "      <th>17</th>\n",
       "      <td>Japan</td>\n",
       "      <td>6</td>\n",
       "      <td>9722.020</td>\n",
       "    </tr>\n",
       "    <tr>\n",
       "      <th>18</th>\n",
       "      <td>Korea</td>\n",
       "      <td>2</td>\n",
       "      <td>1118.510</td>\n",
       "    </tr>\n",
       "    <tr>\n",
       "      <th>19</th>\n",
       "      <td>Lithuania</td>\n",
       "      <td>1</td>\n",
       "      <td>4892.680</td>\n",
       "    </tr>\n",
       "    <tr>\n",
       "      <th>20</th>\n",
       "      <td>Malta</td>\n",
       "      <td>1</td>\n",
       "      <td>5373.500</td>\n",
       "    </tr>\n",
       "    <tr>\n",
       "      <th>21</th>\n",
       "      <td>Netherlands</td>\n",
       "      <td>22</td>\n",
       "      <td>268784.350</td>\n",
       "    </tr>\n",
       "    <tr>\n",
       "      <th>22</th>\n",
       "      <td>Nigeria</td>\n",
       "      <td>1</td>\n",
       "      <td>140.390</td>\n",
       "    </tr>\n",
       "    <tr>\n",
       "      <th>23</th>\n",
       "      <td>Norway</td>\n",
       "      <td>5</td>\n",
       "      <td>23944.180</td>\n",
       "    </tr>\n",
       "    <tr>\n",
       "      <th>24</th>\n",
       "      <td>Poland</td>\n",
       "      <td>2</td>\n",
       "      <td>3567.800</td>\n",
       "    </tr>\n",
       "    <tr>\n",
       "      <th>25</th>\n",
       "      <td>Portugal</td>\n",
       "      <td>18</td>\n",
       "      <td>23843.460</td>\n",
       "    </tr>\n",
       "    <tr>\n",
       "      <th>26</th>\n",
       "      <td>RSA</td>\n",
       "      <td>1</td>\n",
       "      <td>931.430</td>\n",
       "    </tr>\n",
       "    <tr>\n",
       "      <th>27</th>\n",
       "      <td>Singapore</td>\n",
       "      <td>1</td>\n",
       "      <td>4037.770</td>\n",
       "    </tr>\n",
       "    <tr>\n",
       "      <th>28</th>\n",
       "      <td>Spain</td>\n",
       "      <td>25</td>\n",
       "      <td>47568.650</td>\n",
       "    </tr>\n",
       "    <tr>\n",
       "      <th>29</th>\n",
       "      <td>Sweden</td>\n",
       "      <td>16</td>\n",
       "      <td>53147.990</td>\n",
       "    </tr>\n",
       "    <tr>\n",
       "      <th>30</th>\n",
       "      <td>Switzerland</td>\n",
       "      <td>14</td>\n",
       "      <td>43921.390</td>\n",
       "    </tr>\n",
       "    <tr>\n",
       "      <th>31</th>\n",
       "      <td>Thailand</td>\n",
       "      <td>1</td>\n",
       "      <td>3070.540</td>\n",
       "    </tr>\n",
       "    <tr>\n",
       "      <th>32</th>\n",
       "      <td>USA</td>\n",
       "      <td>6</td>\n",
       "      <td>4786.470</td>\n",
       "    </tr>\n",
       "    <tr>\n",
       "      <th>33</th>\n",
       "      <td>United Arab Emirates</td>\n",
       "      <td>4</td>\n",
       "      <td>7300.410</td>\n",
       "    </tr>\n",
       "    <tr>\n",
       "      <th>34</th>\n",
       "      <td>Unspecified</td>\n",
       "      <td>4</td>\n",
       "      <td>5946.580</td>\n",
       "    </tr>\n",
       "    <tr>\n",
       "      <th>35</th>\n",
       "      <td>West Indies</td>\n",
       "      <td>1</td>\n",
       "      <td>536.410</td>\n",
       "    </tr>\n",
       "  </tbody>\n",
       "</table>\n",
       "</div>"
      ],
      "text/plain": [
       "                 Country  CustomerCount  TotalSales\n",
       "0              Australia             15   31446.800\n",
       "1                Austria             10   13414.330\n",
       "2                Bahrain              2     805.970\n",
       "3                Belgium             17   24537.580\n",
       "4                 Brazil              1     268.270\n",
       "5                 Canada              1    1216.660\n",
       "6        Channel Islands             11   24546.320\n",
       "7                 Cyprus              7   11347.100\n",
       "8                Denmark              9   50906.850\n",
       "9                   EIRE              5  356041.860\n",
       "10               Finland              7    7379.460\n",
       "11                France             47  146107.070\n",
       "12               Germany             67  202025.391\n",
       "13                Greece              4   14335.670\n",
       "14               Iceland              1    1323.320\n",
       "15                Israel              2    3199.400\n",
       "16                 Italy             11   15052.730\n",
       "17                 Japan              6    9722.020\n",
       "18                 Korea              2    1118.510\n",
       "19             Lithuania              1    4892.680\n",
       "20                 Malta              1    5373.500\n",
       "21           Netherlands             22  268784.350\n",
       "22               Nigeria              1     140.390\n",
       "23                Norway              5   23944.180\n",
       "24                Poland              2    3567.800\n",
       "25              Portugal             18   23843.460\n",
       "26                   RSA              1     931.430\n",
       "27             Singapore              1    4037.770\n",
       "28                 Spain             25   47568.650\n",
       "29                Sweden             16   53147.990\n",
       "30           Switzerland             14   43921.390\n",
       "31              Thailand              1    3070.540\n",
       "32                   USA              6    4786.470\n",
       "33  United Arab Emirates              4    7300.410\n",
       "34           Unspecified              4    5946.580\n",
       "35           West Indies              1     536.410"
      ]
     },
     "execution_count": 67,
     "metadata": {},
     "output_type": "execute_result"
    }
   ],
   "source": [
    "country_stats"
   ]
  },
  {
   "cell_type": "code",
   "execution_count": 69,
   "id": "f49f2e5e-9c05-4e62-8704-021c08d4177f",
   "metadata": {},
   "outputs": [],
   "source": [
    "plt.style.use('fivethirtyeight')"
   ]
  },
  {
   "cell_type": "code",
   "execution_count": 70,
   "id": "ef6aaffe-7337-44c3-aad4-49c55d682b11",
   "metadata": {},
   "outputs": [],
   "source": [
    "country_stats['Group'] = ''\n",
    "country_stats.loc[(country_stats['CustomerCount'] > customer_count_q3) & (country_stats['TotalSales'] > sales_q3), 'Group'] = 'Highest customer & revenue'\n",
    "country_stats.loc[(country_stats['CustomerCount'] > customer_count_q3) & (country_stats['TotalSales'] < sales_q3), 'Group'] = 'High customer & low revenue'\n",
    "country_stats.loc[(country_stats['CustomerCount'] < customer_count_q3) & (country_stats['TotalSales'] > sales_q3), 'Group'] = 'High revenue & low customer'\n",
    "country_stats.loc[(country_stats['CustomerCount'] < customer_count_q3) & (country_stats['TotalSales'] < sales_q3), 'Group'] = 'Low customer & revenue'"
   ]
  },
  {
   "cell_type": "code",
   "execution_count": 73,
   "id": "183b2775-313a-4b9d-8ed8-33d2dcd7c7cc",
   "metadata": {},
   "outputs": [
    {
     "data": {
      "image/png": "[encoded data removed]",
      "text/plain": [
       "<Figure size 1000x1000 with 1 Axes>"
      ]
     },
     "metadata": {},
     "output_type": "display_data"
    }
   ],
   "source": [
    "\n",
    "fig, ax = plt.subplots(figsize=(10, 10))\n",
    "\n",
    "ax.scatter(country_stats[country_stats.Group=='Highest customer & revenue']['TotalSales'],\n",
    "           country_stats[country_stats.Group=='Highest customer & revenue']['CustomerCount'],\n",
    "           color='red', s=20, label='Highest customer & revenue')\n",
    "\n",
    "ax.scatter(country_stats[country_stats.Group=='High customer & low revenue']['TotalSales'],\n",
    "           country_stats[country_stats.Group=='High customer & low revenue']['CustomerCount'],\n",
    "           color='blue', s=20, label='High customer & low revenue')\n",
    "\n",
    "ax.scatter(country_stats[country_stats.Group=='High revenue & low customer']['TotalSales'],\n",
    "           country_stats[country_stats.Group=='High revenue & low customer']['CustomerCount'],\n",
    "           color='green', s=20, label='High revenue & low customer')\n",
    "           \n",
    "ax.scatter(country_stats[country_stats.Group=='Low customer & revenue']['TotalSales'],\n",
    "           country_stats[country_stats.Group=='Low customer & revenue']['CustomerCount'],\n",
    "           color='cyan', s=20, label='Low customer & revenue')\n",
    "\n",
    "ax.set_xlabel('Sales amount',size=16)\n",
    "ax.set_ylabel('Number of customers',size=16)\n",
    "ax.set_title('Market Study',size=18)\n",
    "\n",
    "ax.grid(True)\n",
    "\n",
    "ax.legend(loc='upper right',title='Group', frameon=True, title_fontsize=16, facecolor='silver', fontsize=14)\n",
    "\n",
    "for index, row in country_stats.iterrows():\n",
    "    if row['Country'] == 'France':\n",
    "        ax.text(x=row['TotalSales'], y=row['CustomerCount']+0.5, s='France', fontsize=15)\n",
    "    if row['Country'] == 'Spain':\n",
    "        ax.text(x=row['TotalSales'], y=row['CustomerCount']+0.5, s='Spain', fontsize=15)\n",
    "    if row['Country'] == 'Netherlands':\n",
    "        ax.text(x=row['TotalSales'], y=row['CustomerCount']+0.5, s='Netherlands', fontsize=15)\n",
    "                \n",
    "\n",
    "plt.show()\n"
   ]
  },
  {
   "cell_type": "code",
   "execution_count": 107,
   "id": "cda6dcbf-3553-4605-85fc-9263d662b21e",
   "metadata": {},
   "outputs": [],
   "source": [
    "#Step4"
   ]
  },
  {
   "cell_type": "code",
   "execution_count": null,
   "id": "b5e76ba0-f184-4b39-9db1-7a19ad44f2f4",
   "metadata": {},
   "outputs": [],
   "source": [
    "#**Continuing with marketing tasks, in this step, you need to categorize customers based on their \n",
    "#value to the company. To do this, you'll use a well-known method in customer behavior analysis \n",
    "#called RFM. In this method, three metrics are calculated for each customer:**\n",
    "\n",
    "#- **Recency:** The number of days since the customer's last purchase.\n",
    "#- **Frequency:** The number of times the customer has made a purchase.\n",
    "#- **Monetary Value:** The total revenue the company has generated from a customer.\n",
    "\n",
    "#**These metrics represent important indicators of customer behavior.\n",
    "#For example, the more recent a customer's purchase, the more likely they are to buy again.\n",
    "#The more frequently a customer purchases, the higher their satisfaction likely is. \n",
    "#Additionally, the revenue generated by a customer can distinguish them from other buyers.**"
   ]
  },
  {
   "cell_type": "code",
   "execution_count": 87,
   "id": "9418173f-2a7d-4a51-81d3-078fce0a01ea",
   "metadata": {},
   "outputs": [],
   "source": [
    "# Recency criterion"
   ]
  },
  {
   "cell_type": "code",
   "execution_count": 75,
   "id": "8f9f6bf0-aa22-476e-9713-a75523b17a8a",
   "metadata": {},
   "outputs": [],
   "source": [
    "#First, you need to calculate the Recency metric for each customer (CustomerId). To compute this metric,\n",
    "#determine the number of days that have passed since the customer's last purchase compared to one day after the\n",
    "#latest date available in the dataset (from the InvoiceDate column). This is based on the assumption that you are performing the analysis on this particular day."
   ]
  },
  {
   "cell_type": "code",
   "execution_count": 78,
   "id": "f6250649-dc89-4f97-8bbf-aec2fb9761fb",
   "metadata": {},
   "outputs": [
    {
     "name": "stdout",
     "output_type": "stream",
     "text": [
      "CustomerId\n",
      "12346.0    165\n",
      "12347.0      3\n",
      "12348.0     74\n",
      "12349.0     43\n",
      "12351.0     11\n",
      "          ... \n",
      "18283.0     18\n",
      "18284.0     67\n",
      "18285.0    296\n",
      "18286.0    112\n",
      "18287.0     18\n",
      "Name: Recency, Length: 4312, dtype: int64\n"
     ]
    }
   ],
   "source": [
    "last_date = df['InvoiceDate'].max()\n",
    "\n",
    "df['InvoiceDate'] = pd.to_datetime(df['InvoiceDate'])\n",
    "\n",
    "last_date = df['InvoiceDate'].max()\n",
    "\n",
    "last_day = last_date + pd.Timedelta(days=1)\n",
    "\n",
    "df['Recency'] = (last_day - df['InvoiceDate']).dt.days\n",
    "\n",
    "recency_df = df.groupby('CustomerId')['Recency'].min()\n",
    "\n",
    "print(recency_df)"
   ]
  },
  {
   "cell_type": "code",
   "execution_count": 79,
   "id": "af3f69bf-e956-4420-b9f8-b2b45bbbe4fb",
   "metadata": {},
   "outputs": [],
   "source": [
    "#Now, for each customer, you can find the date of their most recent purchase and calculate the number of days since the `last_day`. \n",
    "\n",
    "#Store the results in a DataFrame named `df_customer_segments` with two columns: `CustomerId` (the customer identifier) and `Recency` (the calculated recency value)."
   ]
  },
  {
   "cell_type": "code",
   "execution_count": 80,
   "id": "c677799f-16f8-4cfc-ae9d-80d9b423b564",
   "metadata": {},
   "outputs": [
    {
     "name": "stdout",
     "output_type": "stream",
     "text": [
      "      CustomerId         InvoiceDate  Recency\n",
      "0        12346.0 2010-06-28 13:53:00      165\n",
      "1        12347.0 2010-12-07 14:57:00        3\n",
      "2        12348.0 2010-09-27 14:59:00       74\n",
      "3        12349.0 2010-10-28 08:23:00       43\n",
      "4        12351.0 2010-11-29 15:23:00       11\n",
      "...          ...                 ...      ...\n",
      "4307     18283.0 2010-11-22 15:30:00       18\n",
      "4308     18284.0 2010-10-04 11:33:00       67\n",
      "4309     18285.0 2010-02-17 10:24:00      296\n",
      "4310     18286.0 2010-08-20 11:57:00      112\n",
      "4311     18287.0 2010-11-22 11:51:00       18\n",
      "\n",
      "[4312 rows x 3 columns]\n"
     ]
    }
   ],
   "source": [
    "df['InvoiceDate'] = pd.to_datetime(df['InvoiceDate'])\n",
    "\n",
    "last_date = df['InvoiceDate'].max()\n",
    "\n",
    "last_day = last_date + pd.Timedelta(days=1)\n",
    "\n",
    "df_customer_segments = df.groupby('CustomerId')['InvoiceDate'].max().reset_index()\n",
    "df_customer_segments['Recency'] = (last_day - df_customer_segments['InvoiceDate']).dt.days\n",
    "\n",
    "print(df_customer_segments)"
   ]
  },
  {
   "cell_type": "code",
   "execution_count": 85,
   "id": "30f50304-aaab-40b0-ba40-727bbce76c88",
   "metadata": {},
   "outputs": [],
   "source": [
    "#Frequency criterion"
   ]
  },
  {
   "cell_type": "code",
   "execution_count": 82,
   "id": "2df3e022-d9d2-481e-8504-23ac28c00353",
   "metadata": {},
   "outputs": [],
   "source": [
    "#Now you need to calculate how many unique purchases each customer has made so far.\n",
    "#Store the result in a column named `Frequency` and add it to the `df_customer_segments` DataFrame."
   ]
  },
  {
   "cell_type": "code",
   "execution_count": 83,
   "id": "f57c13fc-bca2-453f-83a3-d18268de62a9",
   "metadata": {},
   "outputs": [
    {
     "name": "stdout",
     "output_type": "stream",
     "text": [
      "      CustomerId         InvoiceDate  Recency  Frequency\n",
      "0        12346.0 2010-06-28 13:53:00      165         11\n",
      "1        12347.0 2010-12-07 14:57:00        3          2\n",
      "2        12348.0 2010-09-27 14:59:00       74          1\n",
      "3        12349.0 2010-10-28 08:23:00       43          3\n",
      "4        12351.0 2010-11-29 15:23:00       11          1\n",
      "...          ...                 ...      ...        ...\n",
      "4307     18283.0 2010-11-22 15:30:00       18          6\n",
      "4308     18284.0 2010-10-04 11:33:00       67          1\n",
      "4309     18285.0 2010-02-17 10:24:00      296          1\n",
      "4310     18286.0 2010-08-20 11:57:00      112          2\n",
      "4311     18287.0 2010-11-22 11:51:00       18          4\n",
      "\n",
      "[4312 rows x 4 columns]\n"
     ]
    }
   ],
   "source": [
    "df_customer_segments['Frequency'] = df.groupby('CustomerId')['InvoiceNumber'].nunique().values\n",
    "\n",
    "print(df_customer_segments)"
   ]
  },
  {
   "cell_type": "code",
   "execution_count": 84,
   "id": "6f243577-ea84-4228-9660-e906fee86416",
   "metadata": {},
   "outputs": [],
   "source": [
    "#Monetary Value criterion"
   ]
  },
  {
   "cell_type": "code",
   "execution_count": 89,
   "id": "c027a38b-6f9c-4b3a-8f2c-0b13067d7f40",
   "metadata": {},
   "outputs": [],
   "source": [
    "#For this criterion, you need to calculate the total purchase amount for each customer.\n",
    "#Note that to calculate the revenue for each row, you should multiply the unit price (UnitPrice) by the quantity (Quantity).\n",
    "#Use the result to calculate the total purchase amount for each customer. \n",
    "#Store the result in a column named MonetaryValue in the dataframe df_customer_segments."
   ]
  },
  {
   "cell_type": "code",
   "execution_count": 90,
   "id": "755c0f91-8b63-4ac5-9859-a1bc9aadb5ca",
   "metadata": {},
   "outputs": [
    {
     "name": "stdout",
     "output_type": "stream",
     "text": [
      "      CustomerId         InvoiceDate  Recency  Frequency  MonetaryValue\n",
      "0        12346.0 2010-06-28 13:53:00      165         11         372.86\n",
      "1        12347.0 2010-12-07 14:57:00        3          2        1323.32\n",
      "2        12348.0 2010-09-27 14:59:00       74          1         222.16\n",
      "3        12349.0 2010-10-28 08:23:00       43          3        2671.14\n",
      "4        12351.0 2010-11-29 15:23:00       11          1         300.93\n",
      "...          ...                 ...      ...        ...            ...\n",
      "4307     18283.0 2010-11-22 15:30:00       18          6         619.37\n",
      "4308     18284.0 2010-10-04 11:33:00       67          1         461.68\n",
      "4309     18285.0 2010-02-17 10:24:00      296          1         427.00\n",
      "4310     18286.0 2010-08-20 11:57:00      112          2        1296.43\n",
      "4311     18287.0 2010-11-22 11:51:00       18          4        2345.71\n",
      "\n",
      "[4312 rows x 5 columns]\n"
     ]
    }
   ],
   "source": [
    "\n",
    "df['TotalValue'] = df['UnitPrice'] * df['Quantity']\n",
    "df_customer_segments['MonetaryValue'] = df.groupby('CustomerId')['TotalValue'].sum().values\n",
    "\n",
    "print(df_customer_segments)"
   ]
  },
  {
   "cell_type": "code",
   "execution_count": 91,
   "id": "19ea1545-c837-4d7f-ac6a-c1d64ee5a6ac",
   "metadata": {},
   "outputs": [],
   "source": [
    "#Grouping Each Criterion\n",
    "\n",
    "#Now, you need to divide each of the three criteria (Recency, Frequency, and MonetaryValue) into four different groups based on \n",
    "#the first, second, and third quartiles, as follows:"
   ]
  },
  {
   "cell_type": "code",
   "execution_count": 92,
   "id": "bb3f8b22-cfdc-4233-a3eb-fd88e9ce137b",
   "metadata": {},
   "outputs": [],
   "source": [
    "R_quartiles = np.quantile(df_customer_segments['Recency'], [0.25, 0.5, 0.75])\n",
    "F_quartiles = np.quantile(df_customer_segments['Frequency'], [0.25, 0.5, 0.75])\n",
    "M_quartiles = np.quantile(df_customer_segments['MonetaryValue'], [0.25, 0.5, 0.75])\n"
   ]
  },
  {
   "cell_type": "code",
   "execution_count": 93,
   "id": "0372cccd-d355-4390-af11-3c83f2ebce76",
   "metadata": {},
   "outputs": [
    {
     "name": "stdout",
     "output_type": "stream",
     "text": [
      "   CustomerId         InvoiceDate  Recency  Frequency  MonetaryValue  \\\n",
      "0     12346.0 2010-06-28 13:53:00      165         11         372.86   \n",
      "1     12347.0 2010-12-07 14:57:00        3          2        1323.32   \n",
      "2     12348.0 2010-09-27 14:59:00       74          1         222.16   \n",
      "3     12349.0 2010-10-28 08:23:00       43          3        2671.14   \n",
      "4     12351.0 2010-11-29 15:23:00       11          1         300.93   \n",
      "\n",
      "   R_quartile  F_quartile  M_quartile  \n",
      "0           4           4           2  \n",
      "1           1           2           3  \n",
      "2           3           1           1  \n",
      "3           2           3           4  \n",
      "4           1           1           1  \n"
     ]
    }
   ],
   "source": [
    "\n",
    "df_customer_segments['R_quartile'] = np.select(\n",
    "    [df_customer_segments['Recency'] <= R_quartiles[0], \n",
    "     (R_quartiles[0] < df_customer_segments['Recency']) & (df_customer_segments['Recency'] <= R_quartiles[1]), \n",
    "     (R_quartiles[1] < df_customer_segments['Recency']) & (df_customer_segments['Recency'] <= R_quartiles[2]), \n",
    "     df_customer_segments['Recency'] > R_quartiles[2]], \n",
    "    [1, 2, 3, 4], default=0)\n",
    "\n",
    "df_customer_segments['F_quartile'] = np.select(\n",
    "    [df_customer_segments['Frequency'] <= F_quartiles[0], \n",
    "     (F_quartiles[0] < df_customer_segments['Frequency']) & (df_customer_segments['Frequency'] <= F_quartiles[1]), \n",
    "     (F_quartiles[1] < df_customer_segments['Frequency']) & (df_customer_segments['Frequency'] <= F_quartiles[2]), \n",
    "     df_customer_segments['Frequency'] > F_quartiles[2]], \n",
    "    [1, 2, 3, 4], default=0)\n",
    "\n",
    "df_customer_segments['M_quartile'] = np.select(\n",
    "    [df_customer_segments['MonetaryValue'] <= M_quartiles[0], \n",
    "     (M_quartiles[0] < df_customer_segments['MonetaryValue']) & (df_customer_segments['MonetaryValue'] <= M_quartiles[1]), \n",
    "     (M_quartiles[1] < df_customer_segments['MonetaryValue']) & (df_customer_segments['MonetaryValue'] <= M_quartiles[2]), \n",
    "     df_customer_segments['MonetaryValue'] > M_quartiles[2]], \n",
    "    [1, 2, 3, 4], default=0)\n",
    "\n",
    "print(df_customer_segments.head())"
   ]
  },
  {
   "cell_type": "code",
   "execution_count": 94,
   "id": "79d93502-45ae-4063-a989-9ca9d6140adb",
   "metadata": {},
   "outputs": [],
   "source": [
    "#RFM Criterion\n"
   ]
  },
  {
   "cell_type": "code",
   "execution_count": 95,
   "id": "9ba4cec0-9331-4821-988c-3c6839427575",
   "metadata": {},
   "outputs": [
    {
     "name": "stdout",
     "output_type": "stream",
     "text": [
      "   CustomerId         InvoiceDate  Recency  Frequency  MonetaryValue  \\\n",
      "0     12346.0 2010-06-28 13:53:00      165         11         372.86   \n",
      "1     12347.0 2010-12-07 14:57:00        3          2        1323.32   \n",
      "2     12348.0 2010-09-27 14:59:00       74          1         222.16   \n",
      "3     12349.0 2010-10-28 08:23:00       43          3        2671.14   \n",
      "4     12351.0 2010-11-29 15:23:00       11          1         300.93   \n",
      "\n",
      "   R_quartile  F_quartile  M_quartile  RFM  \n",
      "0           4           4           2  442  \n",
      "1           1           2           3  123  \n",
      "2           3           1           1  311  \n",
      "3           2           3           4  234  \n",
      "4           1           1           1  111  \n"
     ]
    }
   ],
   "source": [
    "df_customer_segments['RFM'] = (df_customer_segments['R_quartile'].astype(str) + \n",
    "                               df_customer_segments['F_quartile'].astype(str) + \n",
    "                               df_customer_segments['M_quartile'].astype(str)).astype(int)\n",
    "\n",
    "print(df_customer_segments.head())"
   ]
  },
  {
   "cell_type": "code",
   "execution_count": 96,
   "id": "e0a05f3f-7ee6-4d77-be65-602ea3d79ba2",
   "metadata": {},
   "outputs": [],
   "source": [
    "#Customer grouping"
   ]
  },
  {
   "cell_type": "code",
   "execution_count": 97,
   "id": "bdd6ed41-c25e-45b3-bf0c-cb716b84639a",
   "metadata": {},
   "outputs": [],
   "source": [
    "#Now, based on the values in the `RFM` column, you need to group the customers according to the \n",
    "#following table and store the name of their group in a column called `Segment`. \n",
    "#Note that in this table, `X` represents any value. For example, `14X` can represent `141`, `142`, `143`, or `144`."
   ]
  },
  {
   "cell_type": "code",
   "execution_count": 98,
   "id": "9a6cc13f-f702-42f0-a0c1-b36074ca752b",
   "metadata": {},
   "outputs": [
    {
     "data": {
      "text/plain": [
       "0             Loyal\n",
       "1            Normal\n",
       "2            Normal\n",
       "3       BigSpenders\n",
       "4            Normal\n",
       "           ...     \n",
       "4307          Loyal\n",
       "4308         Normal\n",
       "4309         Normal\n",
       "4310         Normal\n",
       "4311    BigSpenders\n",
       "Name: Segment, Length: 4312, dtype: object"
      ]
     },
     "execution_count": 98,
     "metadata": {},
     "output_type": "execute_result"
    }
   ],
   "source": [
    "\n",
    "def group_rfm(Value):\n",
    "    Value = str(Value)\n",
    "    if Value == \"144\":\n",
    "        return \"Best\"\n",
    "    elif Value == \"344\":\n",
    "        return \"AlmostLost\"\n",
    "    elif Value == \"444\":\n",
    "        return \"LostBigSpenders\"\n",
    "    elif Value == \"441\":\n",
    "        return \"LostCheap\"\n",
    "    elif Value[1:2] == '4':\n",
    "        return'Loyal'\n",
    "    elif Value[2:] == '4':\n",
    "        return'BigSpenders'\n",
    "    else:\n",
    "        return 'Normal'\n",
    "\n",
    "df_customer_segments['Segment'] = df_customer_segments['RFM'].apply(group_rfm)\n",
    "df_customer_segments['Segment'] \n"
   ]
  },
  {
   "cell_type": "code",
   "execution_count": 99,
   "id": "1ef3e0ef-0670-49b4-a410-ffca51c2f485",
   "metadata": {},
   "outputs": [],
   "source": [
    "#Step 5"
   ]
  },
  {
   "cell_type": "code",
   "execution_count": 104,
   "id": "35f5ad3e-863a-419c-9b69-227ae73c68f4",
   "metadata": {},
   "outputs": [],
   "source": [
    "#Customer Retention Analysis\n",
    "\n",
    "#Acquiring new customers is usually a challenging and costly task for a company because \n",
    "#the marketing team needs to use various advertising methods and customer engagement strategies.\n",
    "#Therefore, the focus is often on retaining current customers and increasing their loyalty."
   ]
  },
  {
   "cell_type": "code",
   "execution_count": 102,
   "id": "8ba9b838-3058-4bf5-aa3e-ecf51e5c7122",
   "metadata": {},
   "outputs": [
    {
     "data": {
      "image/png": "[encoded data removed]",
      "text/plain": [
       "<Figure size 1500x800 with 2 Axes>"
      ]
     },
     "metadata": {},
     "output_type": "display_data"
    }
   ],
   "source": [
    "from matplotlib.ticker import MultipleLocator, FixedFormatter\n",
    "df['InvoiceDate'] = pd.to_datetime(df['InvoiceDate'])\n",
    "df['CohortMonth'] = df.groupby('CustomerId')['InvoiceDate'].transform('min').dt.to_period('M')\n",
    "df['CohortIndex'] = (df['InvoiceDate'].dt.to_period('M') - df['CohortMonth']).apply(lambda x: x.n)\n",
    "\n",
    "cohort_data = df.groupby(['CohortMonth', 'CohortIndex']).agg({'CustomerId': 'nunique'}).reset_index()\n",
    "cohort_pivot = cohort_data.pivot(index='CohortMonth', columns='CohortIndex', values='CustomerId')\n",
    "cohort_pivot = cohort_pivot.div(cohort_pivot.iloc[:, 0], axis=0).mul(100)\n",
    "\n",
    "\n",
    "fig, ax = plt.subplots(figsize=(15, 8))\n",
    "sns.heatmap(cohort_pivot, \n",
    "            annot=True,  \n",
    "            cmap='BuGn', \n",
    "            fmt='.0f', \n",
    "            vmin=0,  \n",
    "            vmax=50, \n",
    "            ax=ax)\n",
    "\n",
    "ax.set_title('Retention rates')\n",
    "\n",
    "ax.set_xlabel('CohortIndex')\n",
    "\n",
    "ax.set_yticklabels([f\"{period.year}-{period.month:02d}-01\" for period in cohort_pivot.index])\n",
    "ax.set_xticklabels((cohort_pivot.columns + 1).map(str))\n",
    "plt.show()\n"
   ]
  },
  {
   "cell_type": "code",
   "execution_count": null,
   "id": "40e0a3da-16bf-4527-8e4d-ad216cc27877",
   "metadata": {},
   "outputs": [],
   "source": []
  }
 ],
 "metadata": {
  "kernelspec": {
   "display_name": "Python 3 (ipykernel)",
   "language": "python",
   "name": "python3"
  },
  "language_info": {
   "codemirror_mode": {
    "name": "ipython",
    "version": 3
   },
   "file_extension": ".py",
   "mimetype": "text/x-python",
   "name": "python",
   "nbconvert_exporter": "python",
   "pygments_lexer": "ipython3",
   "version": "3.12.4"
  }
 },
 "nbformat": 4,
 "nbformat_minor": 5
}
